{
 "cells": [
  {
   "cell_type": "markdown",
   "id": "7491ba46-e2cd-447b-b4a8-a2ab3211f590",
   "metadata": {},
   "source": [
    "# Decision Tree exercise"
   ]
  },
  {
   "cell_type": "code",
   "execution_count": 2,
   "id": "bd9793c6-bfbb-4d61-afd3-6b5e68640f70",
   "metadata": {},
   "outputs": [],
   "source": [
    "import pandas as pd\n",
    "\n",
    "penguins = pd.read_csv(\"./datasets/penguins_classification.csv\")\n",
    "culmen_columns = [\"Culmen Length (mm)\", \"Culmen Depth (mm)\"]\n",
    "target_column = \"Species\""
   ]
  },
  {
   "cell_type": "code",
   "execution_count": 3,
   "id": "64f054a7-c26c-40c3-9c98-60628bcd7583",
   "metadata": {},
   "outputs": [],
   "source": [
    "from sklearn.model_selection import train_test_split\n",
    "\n",
    "data, target = penguins[culmen_columns], penguins[target_column]\n",
    "data_train, data_test, target_train, target_test = train_test_split(\n",
    "    data, target, random_state=0\n",
    ")\n",
    "range_features = {\n",
    "    feature_name: (data[feature_name].min() - 1, data[feature_name].max() + 1)\n",
    "    for feature_name in data.columns\n",
    "}"
   ]
  },
  {
   "cell_type": "code",
   "execution_count": 4,
   "id": "db814a1a-119a-4552-891a-305a486392b6",
   "metadata": {},
   "outputs": [],
   "source": [
    "import numpy as np\n",
    "import matplotlib.pyplot as plt\n",
    "\n",
    "\n",
    "def plot_decision_function(fitted_classifier, range_features, ax=None):\n",
    "    \"\"\"Plot the boundary of the decision function of a classifier.\"\"\"\n",
    "    from sklearn.preprocessing import LabelEncoder\n",
    "\n",
    "    feature_names = list(range_features.keys())\n",
    "    # create a grid to evaluate all possible samples\n",
    "    plot_step = 0.02\n",
    "    xx, yy = np.meshgrid(\n",
    "        np.arange(*range_features[feature_names[0]], plot_step),\n",
    "        np.arange(*range_features[feature_names[1]], plot_step),\n",
    "    )\n",
    "\n",
    "    # compute the associated prediction\n",
    "    Z = fitted_classifier.predict(np.c_[xx.ravel(), yy.ravel()])\n",
    "    Z = LabelEncoder().fit_transform(Z)\n",
    "    Z = Z.reshape(xx.shape)\n",
    "\n",
    "    # make the plot of the boundary and the data samples\n",
    "    if ax is None:\n",
    "        _, ax = plt.subplots()\n",
    "    ax.contourf(xx, yy, Z, alpha=0.4, cmap=\"RdBu\")\n",
    "\n",
    "    return ax"
   ]
  },
  {
   "cell_type": "markdown",
   "id": "6e46c0a0-fc66-4803-af2e-b62cfb7ac150",
   "metadata": {},
   "source": [
    "Create a decision tree classifier with a maximum depth of 2 levels and fit the training data. Once this classifier trained, plot the data and the decision boundary to see the benefit of increasing the depth."
   ]
  },
  {
   "cell_type": "code",
   "execution_count": 5,
   "id": "2808ca3e-8d28-42c2-96a1-c2e1e01a109a",
   "metadata": {},
   "outputs": [],
   "source": [
    "from sklearn.tree import DecisionTreeClassifier\n",
    "\n",
    "# Write your code here.\n",
    "# two lines of code\n"
   ]
  },
  {
   "cell_type": "code",
   "execution_count": null,
   "id": "e73a7e44-222b-4695-b8cb-c48981332075",
   "metadata": {},
   "outputs": [],
   "source": [
    "import seaborn as sns\n",
    "\n",
    "palette = [\"tab:red\", \"tab:blue\", \"black\"]\n",
    "# create the plot here\n",
    "# use sns.scatterplot and plt.legend\n",
    "\n",
    "\n",
    "\n",
    "# this is the last line of this block\n",
    "_ = plt.title(\"Decision boundary using a decision tree\")"
   ]
  },
  {
   "cell_type": "markdown",
   "id": "f7312493-6df4-465e-8049-a1fd88b0974f",
   "metadata": {},
   "source": [
    "Did we make use of the feature “Culmen Length”? Plot the tree using the function `sklearn.tree.plot_tree` to find out!\n"
   ]
  },
  {
   "cell_type": "code",
   "execution_count": 6,
   "id": "0a49b781-77a8-44ac-8727-7573e8f8df80",
   "metadata": {},
   "outputs": [],
   "source": [
    "from sklearn.tree import plot_tree\n",
    "# Write your code here.\n",
    "# create subpolots and use the plot_tree method "
   ]
  },
  {
   "cell_type": "markdown",
   "id": "cc40d09e-0b43-4368-9f6a-93fb4cdd2e51",
   "metadata": {},
   "source": [
    "Compute the accuracy of the decision tree on the testing data.\n",
    "\n"
   ]
  },
  {
   "cell_type": "code",
   "execution_count": 7,
   "id": "842f68ea-3a11-47c3-a7c0-ceb9be889b90",
   "metadata": {},
   "outputs": [],
   "source": [
    "# Write your code here.\n",
    "# one line of code below\n",
    "test_score = tree.fit().(data_test, target_test)\n",
    "print(f\"Accuracy of the DecisionTreeClassifier: {test_score:.2f}\")"
   ]
  },
  {
   "cell_type": "code",
   "execution_count": null,
   "id": "c0fa5e90-23c7-4eb7-b7ef-2cbbeb2e0bcf",
   "metadata": {},
   "outputs": [],
   "source": []
  }
 ],
 "metadata": {
  "kernelspec": {
   "display_name": "Python 3 (ipykernel)",
   "language": "python",
   "name": "python3"
  },
  "language_info": {
   "codemirror_mode": {
    "name": "ipython",
    "version": 3
   },
   "file_extension": ".py",
   "mimetype": "text/x-python",
   "name": "python",
   "nbconvert_exporter": "python",
   "pygments_lexer": "ipython3",
   "version": "3.9.6"
  }
 },
 "nbformat": 4,
 "nbformat_minor": 5
}
