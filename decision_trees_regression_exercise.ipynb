{
 "cells": [
  {
   "cell_type": "markdown",
   "id": "f4a3514c",
   "metadata": {},
   "source": [
    "# Decision tree regression exercise\n",
    "\n",
    "The aim of this exercise is to find out whether a decision tree\n",
    "model is able to extrapolate.\n",
    "\n",
    "By extrapolation, we refer to values predicted by a model outside of the\n",
    "range of feature values seen during the training.\n",
    "\n",
    "We will first load the regression data."
   ]
  },
  {
   "cell_type": "code",
   "execution_count": 1,
   "id": "aef45692",
   "metadata": {},
   "outputs": [],
   "source": [
    "import pandas as pd\n",
    "\n",
    "penguins = pd.read_csv(\"./datasets/penguins_regression.csv\")\n",
    "\n",
    "data_columns = [\"Flipper Length (mm)\"]\n",
    "target_column = \"Body Mass (g)\"\n",
    "\n",
    "data_train, target_train = penguins[data_columns], penguins[target_column]"
   ]
  },
  {
   "cell_type": "markdown",
   "id": "a1440458",
   "metadata": {},
   "source": [
    "First, create two models, a linear regression model and a decision tree\n",
    "regression model, and fit them on the training data. Limit the depth at\n",
    "3 levels for the decision tree."
   ]
  },
  {
   "cell_type": "code",
   "execution_count": null,
   "id": "f7635951",
   "metadata": {},
   "outputs": [],
   "source": [
    "from sklearn.linear_model import LinearRegression\n",
    "from sklearn.tree import DecisionTreeRegressor\n",
    "# Write your code here."
   ]
  },
  {
   "cell_type": "markdown",
   "id": "30dd5dcc",
   "metadata": {},
   "source": [
    "Create a testing dataset, ranging from the minimum to the maximum of the\n",
    "flipper length of the training dataset. Get the predictions of each model\n",
    "using this test dataset."
   ]
  },
  {
   "cell_type": "code",
   "execution_count": null,
   "id": "e6d9e7ba",
   "metadata": {},
   "outputs": [],
   "source": [
    "import numpy as np\n",
    "data_test = pd.DataFrame(np.arange(data_train[data_columns[0]].min(),\n",
    "                                   data_train[data_columns[0]].max()),\n",
    "                         columns=data_columns)"
   ]
  },
  {
   "cell_type": "code",
   "execution_count": null,
   "id": "9d5c95cb-af17-4b99-a9d3-8c246a42876f",
   "metadata": {},
   "outputs": [],
   "source": [
    "# what is missing here??\n",
    "target_predicted_linear_regression = linear_regression\n",
    "target_predicted_tree = tree"
   ]
  },
  {
   "cell_type": "markdown",
   "id": "a9c0190a",
   "metadata": {},
   "source": [
    "Create a scatter plot containing the training samples and superimpose the\n",
    "predictions of both model on the top."
   ]
  },
  {
   "cell_type": "code",
   "execution_count": null,
   "id": "758b6783",
   "metadata": {},
   "outputs": [],
   "source": [
    "# Write your code here.\n",
    "# use the logic used previously"
   ]
  },
  {
   "cell_type": "markdown",
   "id": "ba9eb265",
   "metadata": {},
   "source": [
    "Now, we will check the extrapolation capabilities of each model. Create a\n",
    "dataset containing the value of your previous dataset. Besides, add values\n",
    "below and above the minimum and the maximum of the flipper length seen\n",
    "during training."
   ]
  },
  {
   "cell_type": "code",
   "execution_count": null,
   "id": "decd79e5",
   "metadata": {},
   "outputs": [],
   "source": [
    "offset = 30\n",
    "data_test = pd.DataFrame(np.arange(data_train[data_columns[0]].min() - offset,\n",
    "                                   data_train[data_columns[0]].max() + offset),\n",
    "                         columns=data_columns)"
   ]
  },
  {
   "cell_type": "markdown",
   "id": "d0c3225e",
   "metadata": {},
   "source": [
    "Finally, make predictions with both model on this new testing set."
   ]
  },
  {
   "cell_type": "code",
   "execution_count": null,
   "id": "00fdb61d",
   "metadata": {},
   "outputs": [],
   "source": [
    "# Write your code here."
   ]
  },
  {
   "cell_type": "code",
   "execution_count": null,
   "id": "7f3e7c89-2ef6-412d-891e-3a085d05e64e",
   "metadata": {},
   "outputs": [],
   "source": [
    "# Write your code here.\n",
    "# and make a plot."
   ]
  }
 ],
 "metadata": {
  "jupytext": {
   "cell_metadata_filter": "-all",
   "main_language": "python",
   "notebook_metadata_filter": "-all"
  },
  "kernelspec": {
   "display_name": "Python 3 (ipykernel)",
   "language": "python",
   "name": "python3"
  },
  "language_info": {
   "codemirror_mode": {
    "name": "ipython",
    "version": 3
   },
   "file_extension": ".py",
   "mimetype": "text/x-python",
   "name": "python",
   "nbconvert_exporter": "python",
   "pygments_lexer": "ipython3",
   "version": "3.9.6"
  }
 },
 "nbformat": 4,
 "nbformat_minor": 5
}
