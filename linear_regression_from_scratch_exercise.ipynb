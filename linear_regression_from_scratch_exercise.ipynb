{
 "cells": [
  {
   "cell_type": "markdown",
   "id": "902ebb07-2a72-4707-9458-279bdfcce726",
   "metadata": {},
   "source": [
    "# Linear Regression from scratch using numpy"
   ]
  },
  {
   "cell_type": "markdown",
   "id": "262c7a4d-e201-4159-ad90-0f260c4249ca",
   "metadata": {},
   "source": [
    "## Generate sample dataset"
   ]
  },
  {
   "cell_type": "code",
   "execution_count": null,
   "id": "389b048a-f789-449d-80bf-d3f8bafbba2f",
   "metadata": {},
   "outputs": [],
   "source": [
    "# test message\n",
    "import numpy as np\n",
    "import pandas as pd\n",
    "import matplotlib.pyplot as plt"
   ]
  },
  {
   "cell_type": "code",
   "execution_count": null,
   "id": "5173c21a-4e54-4487-9a6f-85dcf6f59bbc",
   "metadata": {},
   "outputs": [],
   "source": [
    "SEED = 1234\n",
    "NUM_SAMPLES = 50"
   ]
  },
  {
   "cell_type": "code",
   "execution_count": null,
   "id": "0e8dba89-1833-4041-9344-f3ec9353c7f1",
   "metadata": {},
   "outputs": [],
   "source": [
    "# Set seed for reproducibility\n",
    "np.random.seed(SEED)"
   ]
  },
  {
   "cell_type": "code",
   "execution_count": null,
   "id": "3325c226-599c-4999-b631-4e5ae3659b7a",
   "metadata": {},
   "outputs": [],
   "source": [
    "# Generate synthetic data\n",
    "# Note the 3.5 here\n",
    "def generate_data(num_samples):\n",
    "    \"\"\"Generate dummy data for linear regression.\"\"\"\n",
    "    X = np.array(range(num_samples))\n",
    "    random_noise = np.random.uniform(-10, 20, size=num_samples)\n",
    "    y = 3.5*X + random_noise # add some noise\n",
    "    return X, y"
   ]
  },
  {
   "cell_type": "code",
   "execution_count": null,
   "id": "ab6cdd3a-38c4-4521-9a67-99f05061262a",
   "metadata": {},
   "outputs": [],
   "source": [
    "# Generate random (linear) data with number of samples = NUM_SAMPLE\n",
    "#TODO here: one line of code\n",
    "\n",
    "# stack the X and y to get teh whole dataset\n",
    "#TODO here: one line of code\n",
    "\n",
    "print (data[:5])"
   ]
  },
  {
   "cell_type": "code",
   "execution_count": null,
   "id": "9ce2d3af-9552-4514-956e-0a38a55635e8",
   "metadata": {},
   "outputs": [],
   "source": [
    "# Load into a Pandas DataFrame\n",
    "df = pd.DataFrame(data, columns=[\"X\", \"y\"])\n",
    "X = df[[\"X\"]].values\n",
    "y = df[[\"y\"]].values\n",
    "df.head()"
   ]
  },
  {
   "cell_type": "code",
   "execution_count": null,
   "id": "51478115-6c2d-4992-89e8-9674e9944fe0",
   "metadata": {},
   "outputs": [],
   "source": [
    "# Scatter plot\n",
    "plt.title(\"Generated data\")\n",
    "\n",
    "# Plot a scatter plot of the dataset\n",
    "plt.scatter(x=df[\"X\"], y=df[\"y\"])\n",
    "plt.show()"
   ]
  },
  {
   "cell_type": "markdown",
   "id": "6581a752-16e4-451e-9672-9ef03aa40d75",
   "metadata": {},
   "source": [
    "## Using numpy here to build the regression model"
   ]
  },
  {
   "cell_type": "markdown",
   "id": "242c056f-ca56-4aa0-a589-85a43cfb691d",
   "metadata": {},
   "source": [
    "### Split the data into train, test, and eval sets"
   ]
  },
  {
   "cell_type": "code",
   "execution_count": null,
   "id": "e3f7ac29-a141-45d9-85f3-ff724363ef3b",
   "metadata": {},
   "outputs": [],
   "source": [
    "TRAIN_SIZE = 0.7\n",
    "VAL_SIZE = 0.15\n",
    "TEST_SIZE = 0.15"
   ]
  },
  {
   "cell_type": "code",
   "execution_count": null,
   "id": "f9e901db-ce7e-4a37-866c-bb48c94e9f65",
   "metadata": {},
   "outputs": [],
   "source": [
    "# Shuffle data\n",
    "# warning: do not shuffle X and y seprately as this would result into \n",
    "indices = list(range(NUM_SAMPLES))\n",
    "np.random.shuffle(indices)\n",
    "X = X[indices]\n",
    "y = y[indices]"
   ]
  },
  {
   "cell_type": "code",
   "execution_count": null,
   "id": "9ec2a208-f715-4eff-b30f-6461eff331a6",
   "metadata": {},
   "outputs": [],
   "source": [
    "X.shape"
   ]
  },
  {
   "cell_type": "code",
   "execution_count": null,
   "id": "3b217e0f-5a73-4161-8498-ab302c9a0e9f",
   "metadata": {},
   "outputs": [],
   "source": [
    "# Split indices\n",
    "train_start = 0\n",
    "train_end = int(0.7*NUM_SAMPLES)\n",
    "val_start = train_end\n",
    "val_end = int((TRAIN_SIZE+VAL_SIZE)*NUM_SAMPLES)\n",
    "test_start = val_end"
   ]
  },
  {
   "cell_type": "code",
   "execution_count": null,
   "id": "68017b6a-cef2-4c54-ad95-a59ca28baea3",
   "metadata": {},
   "outputs": [],
   "source": [
    "# Split data\n",
    "X_train = X[train_start:train_end]\n",
    "y_train = y[train_start:train_end]\n",
    "X_val = X[val_start:val_end]\n",
    "y_val = y[val_start:val_end]\n",
    "X_test = X[test_start:]\n",
    "y_test = y[test_start:]\n",
    "print (f\"X_train: {X_train.shape}, y_train: {y_train.shape}\")\n",
    "print (f\"X_val: {X_val.shape}, y_test: {y_val.shape}\")\n",
    "print (f\"X_test: {X_test.shape}, y_test: {y_test.shape}\")"
   ]
  },
  {
   "cell_type": "markdown",
   "id": "5ef957cc-28b4-4fce-8926-3ed62870816d",
   "metadata": {},
   "source": [
    "### Standardize data"
   ]
  },
  {
   "cell_type": "code",
   "execution_count": null,
   "id": "8c64cc9f-2e4b-46da-98a4-d130d6f9c7a0",
   "metadata": {},
   "outputs": [],
   "source": [
    "def standardize_data(data, mean, std):\n",
    "    return (data - mean)/std"
   ]
  },
  {
   "cell_type": "code",
   "execution_count": null,
   "id": "5579f61b-9df3-4164-af1b-1c101f982a5c",
   "metadata": {},
   "outputs": [],
   "source": [
    "# Determine means and stds\n",
    "X_mean = np.mean(X_train)\n",
    "X_std = np.std(X_train)\n",
    "y_mean = np.mean(y_train)\n",
    "y_std = np.std(y_train)"
   ]
  },
  {
   "cell_type": "code",
   "execution_count": null,
   "id": "d29ef280-1396-404b-ab39-dbc6dd711809",
   "metadata": {},
   "outputs": [],
   "source": [
    "# Standardize\n",
    "X_train = standardize_data(X_train, X_mean, X_std)\n",
    "y_train = standardize_data(y_train, y_mean, y_std)\n",
    "X_val = standardize_data(X_val, X_mean, X_std)\n",
    "y_val = standardize_data(y_val, y_mean, y_std)\n",
    "X_test = standardize_data(X_test, X_mean, X_std)\n",
    "y_test = standardize_data(y_test, y_mean, y_std)"
   ]
  },
  {
   "cell_type": "code",
   "execution_count": null,
   "id": "0e42aeb9-bd5d-4116-a6ee-4ec7befaae5d",
   "metadata": {},
   "outputs": [],
   "source": [
    "# Check (means should be ~0 and std should be ~1)\n",
    "# Check (means should be ~0 and std should be ~1)\n",
    "print (f\"mean: {np.mean(X_test, axis=0):.1f}, std: {np.std(X_test, axis=0):.1f}\")\n",
    "print (f\"mean: {np.mean(y_test, axis=0):.1f}, std: {np.std(y_test, axis=0):.1f}\")"
   ]
  },
  {
   "cell_type": "markdown",
   "id": "0c0d2b05-e8f6-40e2-94f6-9221e16c8c4b",
   "metadata": {},
   "source": [
    "### Weights"
   ]
  },
  {
   "cell_type": "code",
   "execution_count": null,
   "id": "79f4e950-6c9d-44e9-840b-1159cc36a2e0",
   "metadata": {},
   "outputs": [],
   "source": [
    "INPUT_DIM = X_train.shape # X is 1-dimensional\n",
    "OUTPUT_DIM = y_train.shape # y is 1-dimensional\n",
    "print(INPUT_DIM, OUTPUT_DIM)"
   ]
  },
  {
   "cell_type": "code",
   "execution_count": null,
   "id": "0755f8e2-fd80-4239-920a-ca8c1bda6a9a",
   "metadata": {},
   "outputs": [],
   "source": [
    "# Initialize random weights\n",
    "#TODO: intitalize the W and b matrices (are they matrices or somethign else )\n",
    "W = \n",
    "b = \n",
    "print (f\"W: {W.shape}\")\n",
    "print (f\"b: {b.shape}\")"
   ]
  },
  {
   "cell_type": "markdown",
   "id": "82ed1e2d-855b-40d0-a5fd-f52ddcd4d38b",
   "metadata": {},
   "source": [
    "### Model"
   ]
  },
  {
   "cell_type": "code",
   "execution_count": null,
   "id": "a818ffb2-a09f-459a-a61d-3e998518c88c",
   "metadata": {},
   "outputs": [],
   "source": [
    "# Forward pass [NX1] · [1X1] = [NX1]\n",
    "y_pred = np.dot(X_train, W) + b\n",
    "print (f\"y_pred: {y_pred.shape}\")"
   ]
  },
  {
   "cell_type": "markdown",
   "id": "c8318ca0-11b2-4631-b1b0-7bb9d74ff3f0",
   "metadata": {},
   "source": [
    "### Loss function"
   ]
  },
  {
   "cell_type": "code",
   "execution_count": null,
   "id": "6bc16975-b8d8-488f-bd95-3dd22fe2c7de",
   "metadata": {},
   "outputs": [],
   "source": [
    "# Loss\n",
    "N = len(y_train)\n",
    "loss = (1/N) * np.sum((y_train - y_pred)**2)\n",
    "print (f\"loss: {loss:.2f}\")"
   ]
  },
  {
   "cell_type": "markdown",
   "id": "c9723f3e-cce4-4ed8-9113-4c32d9243cb9",
   "metadata": {},
   "source": [
    "### Gradients"
   ]
  },
  {
   "cell_type": "code",
   "execution_count": null,
   "id": "7bf6a693-c1e8-4356-a859-9fb4205ad2f5",
   "metadata": {},
   "outputs": [],
   "source": [
    "# Backpropagation\n",
    "dW = -(2/N) * np.sum((y_train - y_pred) * X_train)\n",
    "#TODO: implement the db variable\n",
    "db = "
   ]
  },
  {
   "cell_type": "markdown",
   "id": "aecb1194-f6f4-4d29-bb63-a68ac4cd247a",
   "metadata": {},
   "source": [
    "### Update weights"
   ]
  },
  {
   "cell_type": "code",
   "execution_count": null,
   "id": "43e20822-180b-419b-8a1b-bd28955f930e",
   "metadata": {},
   "outputs": [],
   "source": [
    "LEARNING_RATE = 1e-1"
   ]
  },
  {
   "cell_type": "code",
   "execution_count": null,
   "id": "f637f070-a6b5-4b16-ae09-3ab494c5712f",
   "metadata": {},
   "outputs": [],
   "source": [
    "# Update weights\n",
    "W += -LEARNING_RATE * dW\n",
    "b += -LEARNING_RATE * db"
   ]
  },
  {
   "cell_type": "markdown",
   "id": "8cb5e333-eb7f-42d0-9a82-35682badb13d",
   "metadata": {},
   "source": [
    "### Training"
   ]
  },
  {
   "cell_type": "code",
   "execution_count": null,
   "id": "a0e4f4af-08a6-466a-9c1a-c7145e7b6637",
   "metadata": {},
   "outputs": [],
   "source": [
    "NUM_EPOCHS = 100"
   ]
  },
  {
   "cell_type": "code",
   "execution_count": null,
   "id": "177048d9-675f-47dc-81f9-5019d7ecfd7e",
   "metadata": {},
   "outputs": [],
   "source": [
    "# Initialize random weights\n",
    "W = 0.01 * np.random.randn(INPUT_DIM, OUTPUT_DIM)\n",
    "b = np.zeros((1, ))\n",
    "\n",
    "# Training loop\n",
    "#TODO: implement the training loop below\n",
    "for epoch_num in range(NUM_EPOCHS):\n",
    "\n",
    "    # Forward pass [NX1] · [1X1] = [NX1]\n",
    "    # TODO: the forward pass here\n",
    "\n",
    "    # Loss\n",
    "    # TODO: The loss function\n",
    "\n",
    "\n",
    "    # Show progress\n",
    "    if epoch_num%10 == 0:\n",
    "        print (f\"Epoch: {epoch_num}, loss: {loss:.3f}\")\n",
    "\n",
    "    # Backpropagation\n",
    "    dW = -(2/N) * np.sum((y_train - y_pred) * X_train)\n",
    "    db = -(2/N) * np.sum((y_train - y_pred) * 1)\n",
    "\n",
    "    # Update weights\n",
    "    # TODO the weights"
   ]
  },
  {
   "cell_type": "markdown",
   "id": "bf250945-0c4e-46f7-9957-d382e47b0fb1",
   "metadata": {},
   "source": [
    "### Evaluation"
   ]
  },
  {
   "cell_type": "code",
   "execution_count": null,
   "id": "86e34f4a-8171-4e4c-99e1-59b2c8b77da5",
   "metadata": {},
   "outputs": [],
   "source": [
    "# Predictions\n",
    "pred_train = W*X_train + b\n",
    "pred_test = W*X_test + b"
   ]
  },
  {
   "cell_type": "code",
   "execution_count": null,
   "id": "381e8099-92ea-4633-afb5-a3d75ddbdfdb",
   "metadata": {},
   "outputs": [],
   "source": [
    "# Train and test MSE\n",
    "train_mse = np.mean((y_train - pred_train))\n",
    "test_mse = np.mean((y_test - pred_test))\n",
    "print (f\"train_MSE: {train_mse:.2f}, test_MSE: {test_mse:.2f}\")"
   ]
  },
  {
   "cell_type": "code",
   "execution_count": null,
   "id": "67b6797c-9fc9-459b-8fad-0b19ee00f75c",
   "metadata": {},
   "outputs": [],
   "source": [
    "# Figure size\n",
    "plt.figure(figsize=(15,5))\n",
    "\n",
    "# Plot train data\n",
    "plt.subplot(1, 2, 1)\n",
    "plt.title(\"Train\")\n",
    "plt.scatter(X_train, y_train, label=\"y_train\")\n",
    "plt.plot(X_train, pred_train, color=\"red\", linewidth=1, linestyle=\"-\", label=\"model\")\n",
    "plt.legend(loc=\"lower right\")\n",
    "\n",
    "# Plot test data\n",
    "plt.subplot(1, 2, 2)\n",
    "plt.title(\"Test\")\n",
    "plt.scatter(X_test, y_test, label='y_test')\n",
    "plt.plot(X_test, pred_test, color=\"red\", linewidth=1, linestyle=\"-\", label=\"model\")\n",
    "plt.legend(loc=\"lower right\")\n",
    "\n",
    "# Show plots\n",
    "plt.show()"
   ]
  },
  {
   "cell_type": "markdown",
   "id": "eb6253b4-92b9-4c70-be0c-5046d525f5df",
   "metadata": {},
   "source": [
    "### Interpretability"
   ]
  },
  {
   "cell_type": "code",
   "execution_count": null,
   "id": "9be8ac2b-9134-4cc1-812b-40b9cbe8bb4d",
   "metadata": {},
   "outputs": [],
   "source": [
    "# Unscaled weights\n",
    "W_unscaled = W * (y_std/X_std)\n",
    "b_unscaled = b * y_std + y_mean - np.sum(W_unscaled*X_mean)\n",
    "print (\"[actual] y = 3.5X + noise\")\n",
    "print (f\"[model] y_hat = {W_unscaled[0][0]:.1f}X + {b_unscaled[0]:.1f}\")"
   ]
  }
 ],
 "metadata": {
  "kernelspec": {
   "display_name": "Python 3 (ipykernel)",
   "language": "python",
   "name": "python3"
  },
  "language_info": {
   "codemirror_mode": {
    "name": "ipython",
    "version": 3
   },
   "file_extension": ".py",
   "mimetype": "text/x-python",
   "name": "python",
   "nbconvert_exporter": "python",
   "pygments_lexer": "ipython3",
   "version": "3.9.6"
  }
 },
 "nbformat": 4,
 "nbformat_minor": 5
}
